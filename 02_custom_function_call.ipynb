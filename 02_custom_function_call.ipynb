{
 "cells": [
  {
   "cell_type": "markdown",
   "metadata": {},
   "source": [
    "# Custom Function Call"
   ]
  },
  {
   "cell_type": "markdown",
   "metadata": {},
   "source": [
    "## 01. Importación de librerías"
   ]
  },
  {
   "cell_type": "code",
   "execution_count": null,
   "metadata": {},
   "outputs": [],
   "source": [
    "import os\n",
    "import json\n",
    "from dotenv import load_dotenv\n",
    "from tenacity import retry, wait_random_exponential, stop_after_attempt\n",
    "from openai import OpenAI"
   ]
  },
  {
   "cell_type": "markdown",
   "metadata": {},
   "source": [
    "## 02. Variables de Entorno"
   ]
  },
  {
   "cell_type": "code",
   "execution_count": null,
   "metadata": {},
   "outputs": [],
   "source": [
    "# load the environment variables\n",
    "load_dotenv()\n",
    "\n",
    "# get the API key from the environment variable\n",
    "OPENAI_API_KEY = os.getenv(\"OPENAI_API_KEY\")\n",
    "GPT4O_MODEL = os.getenv(\"OPENAI_GPT4O_MODEL\")\n",
    "GPT35_MODEL = os.getenv(\"OPENAI_GPT35_MODEL\")\n",
    "\n",
    "# print the API key and model\n",
    "print(f\"API Key: {OPENAI_API_KEY[:4]}...{OPENAI_API_KEY[-4:]}\")\n",
    "print(f\"Model: {GPT4O_MODEL}\")\n",
    "print(f\"Model: {GPT35_MODEL}\")"
   ]
  },
  {
   "cell_type": "markdown",
   "metadata": {},
   "source": [
    "## 03. Cliente OpenAI"
   ]
  },
  {
   "cell_type": "code",
   "execution_count": null,
   "metadata": {},
   "outputs": [],
   "source": [
    "client = OpenAI(api_key=OPENAI_API_KEY)"
   ]
  },
  {
   "cell_type": "markdown",
   "metadata": {},
   "source": [
    "## 04. Funcion Chat Completion Request"
   ]
  },
  {
   "cell_type": "code",
   "execution_count": null,
   "metadata": {},
   "outputs": [],
   "source": [
    "@retry(wait=wait_random_exponential(multiplier=1, max=40), stop=stop_after_attempt(3))\n",
    "def chat_completion_request(messages, model=GPT4O_MODEL):\n",
    "    try:\n",
    "        response = client.chat.completions.create(\n",
    "            model=model,\n",
    "            messages=messages\n",
    "        )\n",
    "        return response\n",
    "    except Exception as e:\n",
    "        print(\"Unable to generate ChatCompletion response\")\n",
    "        print(f\"Exception: {e}\")\n",
    "        return e"
   ]
  },
  {
   "cell_type": "markdown",
   "metadata": {},
   "source": [
    "## 05. Definicion de Tools"
   ]
  },
  {
   "cell_type": "code",
   "execution_count": null,
   "metadata": {},
   "outputs": [],
   "source": [
    "sumar_scheme = {\n",
    "    \"type\": \"function\",\n",
    "    \"function\": {\n",
    "        \"name\": \"sumar\",\n",
    "        \"description\": \"Sumar dos números\",\n",
    "        \"parameters\": {\n",
    "            \"type\": \"object\",\n",
    "            \"properties\": {\n",
    "                \"a\": {\n",
    "                    \"type\": \"integer\",\n",
    "                    \"description\": \"Primer número\",\n",
    "                },\n",
    "                \"b\": {\n",
    "                    \"type\": \"integer\",\n",
    "                    \"description\": \"Segundo número\",\n",
    "                },\n",
    "            },\n",
    "            \"required\": [\"a\", \"b\"],\n",
    "        },\n",
    "    }\n",
    "}\n"
   ]
  },
  {
   "cell_type": "code",
   "execution_count": null,
   "metadata": {},
   "outputs": [],
   "source": [
    "\n",
    "multiplicar_scheme = {\n",
    "    \"type\": \"function\",\n",
    "    \"function\": {\n",
    "        \"name\": \"multiplicar\",\n",
    "        \"description\": \"Multiplicar dos números\",\n",
    "        \"parameters\": {\n",
    "            \"type\": \"object\",\n",
    "            \"properties\": {\n",
    "                \"a\": {\n",
    "                    \"type\": \"integer\",\n",
    "                    \"description\": \"Primer número\",\n",
    "                },\n",
    "                \"b\": {\n",
    "                    \"type\": \"integer\",\n",
    "                    \"description\": \"Segundo número\",\n",
    "                },\n",
    "            },\n",
    "            \"required\": [\"a\", \"b\"],\n",
    "        },\n",
    "    }\n",
    "}"
   ]
  },
  {
   "cell_type": "code",
   "execution_count": null,
   "metadata": {},
   "outputs": [],
   "source": [
    "tools_str = json.dumps([sumar_scheme, multiplicar_scheme], indent=2)\n",
    "print(tools_str)"
   ]
  },
  {
   "cell_type": "markdown",
   "metadata": {},
   "source": [
    "## 06. Custom Function Call"
   ]
  },
  {
   "cell_type": "code",
   "execution_count": null,
   "metadata": {},
   "outputs": [],
   "source": [
    "system_prompt = \"\"\"You only reply in JSON format. \n",
    "You are given a set of [TOOLS] to work with. Each tool has a name, a description, and a set of parameters.\n",
    "Each parameter will have a type and a description.\n",
    "The required parameters are listed in the 'required' field. If a parameter is not in this list, it is optional.\n",
    "Your objective is to choose one or more tools, and provide the required parameters for each tool, to solve the given problem.\n",
    "If no tools are needed, you can provide an empty list.\n",
    "\n",
    "Given the user [QUERY], you must return a JSON object with the following structure:\n",
    "[\n",
    "    {\n",
    "        \"name\": \"TOOL_NAME\",\n",
    "        \"arguments\": {\n",
    "            \"ARGUMENT_NAME\": ARGUMENT_VALUE,\n",
    "            ...\n",
    "        }\n",
    "    },\n",
    "    ...\n",
    "]\n",
    "\n",
    "Note: Do not enclose the JSON output in a code block. e.g. Do not use triple backticks.\n",
    "\"\"\""
   ]
  },
  {
   "cell_type": "code",
   "execution_count": null,
   "metadata": {},
   "outputs": [],
   "source": [
    "a = 1354\n",
    "b = 58751"
   ]
  },
  {
   "cell_type": "code",
   "execution_count": null,
   "metadata": {},
   "outputs": [],
   "source": [
    "query = f\"Cuanto es {a} + {b}?\"\n",
    "\n",
    "messages = [\n",
    "    {\"role\": \"system\", \"content\": system_prompt},\n",
    "    {\"role\": \"user\", \"content\": f\"[TOOLS]\\n{tools_str}\\n[QUERY]\\n{query}\"}\n",
    "]\n",
    "response = chat_completion_request(messages)\n",
    "content = response.choices[0].message.content\n",
    "\n",
    "print(f\"Query: {query}\")\n",
    "print(f\"Response: {content}\")"
   ]
  },
  {
   "cell_type": "markdown",
   "metadata": {},
   "source": [
    "## 08. Ejecución de Function Call"
   ]
  },
  {
   "cell_type": "code",
   "execution_count": null,
   "metadata": {},
   "outputs": [],
   "source": [
    "def sumar(a: int, b: int) -> int:\n",
    "    return a + b\n",
    "\n",
    "def multiplicar(a: int, b: int) -> int:\n",
    "    return a * b\n",
    "\n",
    "def execute_tool(tool_name, parameters):\n",
    "    parameters = json.loads(parameters)\n",
    "    if tool_name == \"sumar\":\n",
    "        result = sumar(parameters[\"a\"], parameters[\"b\"])\n",
    "    elif tool_name == \"multiplicar\":\n",
    "        result = multiplicar(parameters[\"a\"], parameters[\"b\"])\n",
    "    return result"
   ]
  },
  {
   "cell_type": "code",
   "execution_count": null,
   "metadata": {},
   "outputs": [],
   "source": [
    "query = f\"Cuanto es {a} + {b}?\"\n",
    "\n",
    "messages = [\n",
    "    {\"role\": \"system\", \"content\": system_prompt},\n",
    "    {\"role\": \"user\", \"content\": f\"[TOOLS]\\n{tools_str}\\n[QUERY]\\n{query}\"}\n",
    "]\n",
    "response = chat_completion_request(messages)\n",
    "content = response.choices[0].message.content\n",
    "json_content = json.loads(content)\n",
    "\n",
    "print(f\"Query: {query}\")\n",
    "for tool in json_content:\n",
    "    tool_result = execute_tool(tool[\"name\"], json.dumps(tool[\"arguments\"]))\n",
    "    print(f\"{tool[\"name\"]}({json.dumps(tool[\"arguments\"])}) = {tool_result}\")\n"
   ]
  },
  {
   "cell_type": "markdown",
   "metadata": {},
   "source": [
    "## 07. Custom Function Call con Dependencias"
   ]
  },
  {
   "cell_type": "code",
   "execution_count": null,
   "metadata": {},
   "outputs": [],
   "source": [
    "system_prompt = \"\"\"You only reply in JSON format. \n",
    "You are given a set of [TOOLS] to work with. Each tool has a name, a description, and a set of parameters.\n",
    "Each parameter will have a type and a description.\n",
    "The required parameters are listed in the 'required' field. If a parameter is not in this list, it is optional.\n",
    "Your objective is to choose one or more tools, and provide the required parameters for each tool, to solve the given problem.\n",
    "If the problem requires a multi step solution, you can provide multiple tools in the list. \n",
    "If a tool requires the output of a previous tool, you must declare the dependency in the 'dependencies' field.\n",
    "If no tools are needed, you can provide an empty list.\n",
    "\n",
    "Given the user [QUERY], you must return a JSON object with the following structure:\n",
    "[\n",
    "    {\n",
    "        \"task_id\": \"TASK_ID\",\n",
    "        \"name\": \"TOOL_NAME\",\n",
    "        \"arguments\": {\n",
    "            \"ARGUMENT_NAME\": ARGUMENT_VALUE/DEPENDENCY_TASK_ID,\n",
    "            ...\n",
    "        }\n",
    "        \"dependencies\": [\"DEPENDENCY_TASK_ID\", ...]\n",
    "    },\n",
    "    ...\n",
    "]\n",
    "\n",
    "Note: Do not enclose the JSON output in a code block. e.g. Do not use triple backticks.\n",
    "\"\"\""
   ]
  },
  {
   "cell_type": "code",
   "execution_count": null,
   "metadata": {},
   "outputs": [],
   "source": [
    "query = f\"Cuanto es ({a} + {b}) * {b}?\"\n",
    "\n",
    "messages = [\n",
    "    {\"role\": \"system\", \"content\": system_prompt},\n",
    "    {\"role\": \"user\", \"content\": f\"[TOOLS]\\n{tools_str}\\n[QUERY]\\n{query}\"}\n",
    "]\n",
    "response = chat_completion_request(messages)\n",
    "content = response.choices[0].message.content\n",
    "\n",
    "print(f\"Query: {query}\")\n",
    "print(f\"Response: {content}\")"
   ]
  }
 ],
 "metadata": {
  "kernelspec": {
   "display_name": ".venv",
   "language": "python",
   "name": "python3"
  },
  "language_info": {
   "codemirror_mode": {
    "name": "ipython",
    "version": 3
   },
   "file_extension": ".py",
   "mimetype": "text/x-python",
   "name": "python",
   "nbconvert_exporter": "python",
   "pygments_lexer": "ipython3",
   "version": "3.12.3"
  }
 },
 "nbformat": 4,
 "nbformat_minor": 2
}
