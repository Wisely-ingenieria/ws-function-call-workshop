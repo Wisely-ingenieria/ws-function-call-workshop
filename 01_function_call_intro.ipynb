{
 "cells": [
  {
   "cell_type": "markdown",
   "metadata": {},
   "source": [
    "# Function Call Intro"
   ]
  },
  {
   "cell_type": "markdown",
   "metadata": {},
   "source": [
    "## 01. Librerías"
   ]
  },
  {
   "cell_type": "code",
   "execution_count": null,
   "metadata": {},
   "outputs": [],
   "source": [
    "import os\n",
    "import json\n",
    "from dotenv import load_dotenv\n",
    "from tenacity import retry, wait_random_exponential, stop_after_attempt\n",
    "from openai import OpenAI"
   ]
  },
  {
   "cell_type": "markdown",
   "metadata": {},
   "source": [
    "## 02. Variables de Entorno"
   ]
  },
  {
   "cell_type": "code",
   "execution_count": null,
   "metadata": {},
   "outputs": [],
   "source": [
    "# load the environment variables\n",
    "load_dotenv()\n",
    "\n",
    "# get the API key from the environment variable\n",
    "OPENAI_API_KEY = os.getenv(\"OPENAI_API_KEY\")\n",
    "GPT4O_MODEL = os.getenv(\"OPENAI_GPT4O_MODEL\")\n",
    "GPT35_MODEL = os.getenv(\"OPENAI_GPT35_MODEL\")\n",
    "\n",
    "# print the API key and model\n",
    "print(f\"API Key: {OPENAI_API_KEY[:4]}...{OPENAI_API_KEY[-4:]}\")\n",
    "print(f\"Model: {GPT4O_MODEL}\")\n",
    "print(f\"Model: {GPT35_MODEL}\")"
   ]
  },
  {
   "cell_type": "markdown",
   "metadata": {},
   "source": [
    "## 03. Cliente OpenAI"
   ]
  },
  {
   "cell_type": "code",
   "execution_count": null,
   "metadata": {},
   "outputs": [],
   "source": [
    "# create the OpenAI client\n",
    "client = OpenAI(api_key=OPENAI_API_KEY)"
   ]
  },
  {
   "cell_type": "markdown",
   "metadata": {},
   "source": [
    "## 04. Funcion Chat Completion Request"
   ]
  },
  {
   "cell_type": "code",
   "execution_count": null,
   "metadata": {},
   "outputs": [],
   "source": [
    "@retry(wait=wait_random_exponential(multiplier=1, max=40), stop=stop_after_attempt(3))\n",
    "def chat_completion_request(messages, tools=None, tool_choice=None, model=GPT4O_MODEL):\n",
    "    try:\n",
    "        response = client.chat.completions.create(\n",
    "            model=model,\n",
    "            messages=messages,\n",
    "            tools=tools,\n",
    "            tool_choice=tool_choice,\n",
    "        )\n",
    "        return response\n",
    "    except Exception as e:\n",
    "        print(\"Unable to generate ChatCompletion response\")\n",
    "        print(f\"Exception: {e}\")\n",
    "        return e"
   ]
  },
  {
   "cell_type": "markdown",
   "metadata": {},
   "source": [
    "## 05. Ejemplos de Matematicas"
   ]
  },
  {
   "cell_type": "code",
   "execution_count": null,
   "metadata": {},
   "outputs": [],
   "source": [
    "# two random numbers\n",
    "a = 122123\n",
    "b = 256321"
   ]
  },
  {
   "cell_type": "code",
   "execution_count": null,
   "metadata": {},
   "outputs": [],
   "source": [
    "query = f\"Cuanto es {a} + {b}?\"\n",
    "\n",
    "response = chat_completion_request([{\"role\": \"user\", \"content\": query}])\n",
    "content = response.choices[0].message.content\n",
    "\n",
    "print(f\"Query: {query}\")\n",
    "print(f\"Response: {content}\")\n",
    "print(f\"Real answer: {a+b}\")"
   ]
  },
  {
   "cell_type": "code",
   "execution_count": null,
   "metadata": {},
   "outputs": [],
   "source": [
    "query = f\"Cuanto es {a} * {b}?\"\n",
    "\n",
    "response = chat_completion_request([{\"role\": \"user\", \"content\": query}])\n",
    "content = response.choices[0].message.content\n",
    "\n",
    "print(f\"Query: {query}\")\n",
    "print(f\"Response: {content}\")\n",
    "print(f\"Real answer: {a*b}\")"
   ]
  },
  {
   "cell_type": "markdown",
   "metadata": {},
   "source": [
    "## 06. Definicion de Tools"
   ]
  },
  {
   "cell_type": "code",
   "execution_count": null,
   "metadata": {},
   "outputs": [],
   "source": [
    "sumar_scheme = {\n",
    "    \"type\": \"function\",\n",
    "    \"function\": {\n",
    "        \"name\": \"sumar\",\n",
    "        \"description\": \"Sumar dos números\",\n",
    "        \"parameters\": {\n",
    "            \"type\": \"object\",\n",
    "            \"properties\": {\n",
    "                \"a\": {\n",
    "                    \"type\": \"integer\",\n",
    "                    \"description\": \"Primer número\",\n",
    "                },\n",
    "                \"b\": {\n",
    "                    \"type\": \"integer\",\n",
    "                    \"description\": \"Segundo número\",\n",
    "                },\n",
    "            },\n",
    "            \"required\": [\"a\", \"b\"],\n",
    "        },\n",
    "    }\n",
    "}"
   ]
  },
  {
   "cell_type": "code",
   "execution_count": null,
   "metadata": {},
   "outputs": [],
   "source": [
    "\n",
    "multiplicar_scheme = {\n",
    "    \"type\": \"function\",\n",
    "    \"function\": {\n",
    "        \"name\": \"multiplicar\",\n",
    "        \"description\": \"Multiplicar dos números\",\n",
    "        \"parameters\": {\n",
    "            \"type\": \"object\",\n",
    "            \"properties\": {\n",
    "                \"a\": {\n",
    "                    \"type\": \"integer\",\n",
    "                    \"description\": \"Primer número\",\n",
    "                },\n",
    "                \"b\": {\n",
    "                    \"type\": \"integer\",\n",
    "                    \"description\": \"Segundo número\",\n",
    "                },\n",
    "            },\n",
    "            \"required\": [\"a\", \"b\"],\n",
    "        },\n",
    "    }\n",
    "}"
   ]
  },
  {
   "cell_type": "markdown",
   "metadata": {},
   "source": [
    "## 07. Ejemplos de Function Call"
   ]
  },
  {
   "cell_type": "code",
   "execution_count": null,
   "metadata": {},
   "outputs": [],
   "source": [
    "query = f\"Cuanto es {a} + {b}?\"\n",
    "\n",
    "response = chat_completion_request([{\"role\": \"user\", \"content\": query}], tools=[sumar_scheme, multiplicar_scheme])\n",
    "content = response.choices[0].message.content\n",
    "tool_calls = response.choices[0].message.tool_calls\n",
    "\n",
    "print(f\"Query: {query}\")\n",
    "print(f\"Response: {content}\")\n",
    "if tool_calls:\n",
    "    print(\"Tool Calls:\")\n",
    "    for tool in tool_calls:\n",
    "        print(f\" - {tool.function}\")"
   ]
  },
  {
   "cell_type": "markdown",
   "metadata": {},
   "source": [
    "## 08. Ejecucion de Function Call"
   ]
  },
  {
   "cell_type": "code",
   "execution_count": null,
   "metadata": {},
   "outputs": [],
   "source": [
    "def sumar(a: int, b: int) -> int:\n",
    "    return a + b\n",
    "\n",
    "def multiplicar(a: int, b: int) -> int:\n",
    "    return a * b\n",
    "\n",
    "def execute_tool(tool_name, parameters):\n",
    "    parameters = json.loads(parameters)\n",
    "    if tool_name == \"sumar\":\n",
    "        result = sumar(parameters[\"a\"], parameters[\"b\"])\n",
    "    elif tool_name == \"multiplicar\":\n",
    "        result = multiplicar(parameters[\"a\"], parameters[\"b\"])\n",
    "    return result"
   ]
  },
  {
   "cell_type": "code",
   "execution_count": null,
   "metadata": {},
   "outputs": [],
   "source": [
    "query = f\"Cuanto es {a} * {b}?\"\n",
    "\n",
    "response = chat_completion_request([{\"role\": \"user\", \"content\": query}], tools=[sumar_scheme, multiplicar_scheme])\n",
    "content = response.choices[0].message.content\n",
    "tool_calls = response.choices[0].message.tool_calls\n",
    "\n",
    "print(f\"Query: {query}\")\n",
    "print(f\"Response: {content}\")\n",
    "if tool_calls:\n",
    "    print(\"Tool Calls:\")\n",
    "    for tool in tool_calls:\n",
    "        tool_result = execute_tool(tool.function.name, tool.function.arguments)\n",
    "        print(f\" - {tool.function} = {tool_result}\")"
   ]
  }
 ],
 "metadata": {
  "kernelspec": {
   "display_name": ".venv",
   "language": "python",
   "name": "python3"
  },
  "language_info": {
   "codemirror_mode": {
    "name": "ipython",
    "version": 3
   },
   "file_extension": ".py",
   "mimetype": "text/x-python",
   "name": "python",
   "nbconvert_exporter": "python",
   "pygments_lexer": "ipython3",
   "version": "3.12.3"
  }
 },
 "nbformat": 4,
 "nbformat_minor": 2
}
